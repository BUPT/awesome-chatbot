{
  "nbformat": 4,
  "nbformat_minor": 0,
  "metadata": {
    "colab": {
      "name": "CAIC#11-Capsule-experiment-on-Mnist.ipynb",
      "version": "0.3.2",
      "provenance": [],
      "include_colab_link": true
    },
    "kernelspec": {
      "name": "python2",
      "display_name": "Python 2"
    },
    "accelerator": "GPU"
  },
  "cells": [
    {
      "cell_type": "markdown",
      "metadata": {
        "id": "view-in-github",
        "colab_type": "text"
      },
      "source": [
        "[View in Colaboratory](https://colab.research.google.com/github/BUPT/awesome-chatbot/blob/master/code/CAIC_11_Capsule_experiment_on_Mnist.ipynb)"
      ]
    },
    {
      "metadata": {
        "id": "T8AJVvilKn7N",
        "colab_type": "text"
      },
      "cell_type": "markdown",
      "source": [
        "# CAIC #11 Capsule experiment in Mnist\n",
        "## Inference:\n",
        "- https://kexue.fm/archives/4819\n",
        "- https://github.com/bojone/Capsule/blob/master/capsule_test.py\n",
        "\n",
        "## Presention by:\n",
        "- 824zzy"
      ]
    },
    {
      "metadata": {
        "id": "sdwsIJeHMXn0",
        "colab_type": "text"
      },
      "cell_type": "markdown",
      "source": [
        "## Keras版本Capsule模型的实现"
      ]
    },
    {
      "metadata": {
        "id": "BHfN0fPmKeZh",
        "colab_type": "code",
        "colab": {
          "base_uri": "https://localhost:8080/",
          "height": 35
        },
        "outputId": "a5466514-ba3e-4f3e-95d5-d065c5c7661f"
      },
      "cell_type": "code",
      "source": [
        "import numpy as np\n",
        "from keras import activations\n",
        "from keras import utils\n",
        "from keras.datasets import mnist\n",
        "from keras.models import Model\n",
        "from keras.layers import *\n",
        "from keras import backend as K\n",
        "from keras.engine.topology import Layer"
      ],
      "execution_count": 2,
      "outputs": [
        {
          "output_type": "stream",
          "text": [
            "Using TensorFlow backend.\n"
          ],
          "name": "stderr"
        }
      ]
    },
    {
      "metadata": {
        "id": "iychjjtyk5i2",
        "colab_type": "code",
        "colab": {}
      },
      "cell_type": "code",
      "source": [
        "# 论文原文是１，实验结果表明０.５效果更好。可以继续实验\n",
        "def squash(x, axis=-1):\n",
        "    # 加一个epsilon，保证\n",
        "    s_squared_norm = K.sum(K.square(x), axis, keepdims=True) + K.epsilon()\n",
        "    scale = K.sqrt(s_squared_norm) / (0.5 + s_squared_norm)\n",
        "    return scale * x"
      ],
      "execution_count": 0,
      "outputs": []
    },
    {
      "metadata": {
        "id": "a51g9iJTk6bk",
        "colab_type": "code",
        "colab": {}
      },
      "cell_type": "code",
      "source": [
        "# 定义自己的softmax函数\n",
        "# K.max: a trick when computing softmax avoiding overflow\n",
        "def softmax(x, axis=-1):\n",
        "    ex = K.exp(x - K.max(x, axis=axis, keepdims=True))\n",
        "    return ex / K.sum(ex, axis=axis, keepdims=True)"
      ],
      "execution_count": 0,
      "outputs": []
    },
    {
      "metadata": {
        "id": "wkUua1ddlA6n",
        "colab_type": "code",
        "colab": {}
      },
      "cell_type": "code",
      "source": [
        "class Capsule(Layer):\n",
        "    def __init__(self, num_capsule, dim_capsule, routings=3, share_weights=True, activation='squash', **kwargs):\n",
        "        super(Capsule, self).__init__(**kwargs)\n",
        "        self.num_capsule = num_capsule\n",
        "        self.dim_capsule = dim_capsule\n",
        "        self.routings = routings\n",
        "        self.share_weights = share_weights\n",
        "        if activation == \"squash\":\n",
        "            self.activation = squash\n",
        "        else:\n",
        "            self.activation = activation.get(activation)\n",
        "           \n",
        "    def build(self, input_shape):\n",
        "        super(Capsule, self).build(input_shape)\n",
        "        input_dim_capsule = input_shape[-1]\n",
        "        if self.share_weights:\n",
        "            self.W = self.add_weight(name='capsule_kernel',\n",
        "                                     shape=(1, input_dim_capsule,\n",
        "                                            self.num_capsule * self.dim_capsule),\n",
        "                                     initializer='glorot_uniform',\n",
        "                                     trainable=True)\n",
        "        else:\n",
        "            input_num_capsule = input_shape[-2]\n",
        "            self.W = self.add_weight(name='capsule_kernel',\n",
        "                                     shape=(input_num_capsule,\n",
        "                                            input_dim_capsule,\n",
        "                                            self.num_capsule * self.dim_capsule),\n",
        "                                     initializer='glorot_uniform',\n",
        "                                     trainable=True)\n",
        "            \n",
        "    def call(self, u_vecs):\n",
        "        print('origin u_vecs shape:', u_vecs.shape)\n",
        "        if self.share_weights:\n",
        "            u_hat_vecs = K.conv1d(u_vecs, self.W)\n",
        "        else:\n",
        "            u_hat_vecs = K.local_conv1d(u_vecs, self.W, [1], [1])\n",
        "        print('conved u_vecs shape:', u_hat_vecs.shape)\n",
        "        batch_size = K.shape(u_vecs)[0]\n",
        "        input_num_capsule = K.shape(u_vecs)[1]\n",
        "        u_hat_vecs = K.reshape(u_hat_vecs, (batch_size, input_num_capsule,\n",
        "                                            self.num_capsule, self.dim_capsule))\n",
        "        print('reshaped u_vecs shape:', u_hat_vecs.shape)\n",
        "        u_hat_vecs = K.permute_dimensions(u_hat_vecs, (0, 2, 1, 3))\n",
        "        print('permuted u_vecs shape:', u_hat_vecs.shape)\n",
        "        b = K.zeros_like(u_hat_vecs[:, :, :, 0])\n",
        "        for i in range(self.routings):\n",
        "            c = softmax(b, 1)\n",
        "            print(\"c shape\", c.shape)\n",
        "            s = K.batch_dot(c, u_hat_vecs, [2, 2])\n",
        "            print(\"s shape\", s.shape)\n",
        "            print(\"b shape\", b.shape)\n",
        "            if K.backend() == 'theano':\n",
        "                s = K.sum(s, axis=1)\n",
        "            if i < self.routings - 1:\n",
        "                s = K.l2_normalize(s, -1)\n",
        "                b = K.batch_dot(s, u_hat_vecs, [2, 3])\n",
        "                if K.backend() == 'theano':\n",
        "                    b = K.sum(b, axis=1)\n",
        "                    \n",
        "        return self.activation(s)\n",
        "                \n",
        "            \n",
        "    def compute_output_shape(self, input_shape):\n",
        "        return (None, self.num_capsule, self.dim_capsule)"
      ],
      "execution_count": 0,
      "outputs": []
    },
    {
      "metadata": {
        "id": "xptKEO8flkSN",
        "colab_type": "text"
      },
      "cell_type": "markdown",
      "source": [
        "## Capsule模型在Mnist分类任务上的实验：\n",
        "实验细节如下：\n",
        "1. **将一个多分类的任务转换为多个二分类的任务**\n",
        "2. 测试的图片并不是原始的测试集，而是随机将两张测试集的图片拼在一起，看模型是否能预测出两个数字和两个数字的顺序。\n",
        "3. 测试可以继续加大难度，测试\n",
        "    1. 普通结构：CNN + Pooling\n",
        "    2. Capsule结构：CNN + Capsule\n",
        "    在mnist数字**序列**的预测准确率\n"
      ]
    },
    {
      "metadata": {
        "id": "r2iUUaOqltxq",
        "colab_type": "text"
      },
      "cell_type": "markdown",
      "source": [
        "### 构造实验数据"
      ]
    },
    {
      "metadata": {
        "id": "h5z1l_6vlh0b",
        "colab_type": "code",
        "colab": {
          "base_uri": "https://localhost:8080/",
          "height": 86
        },
        "outputId": "61c7e110-b5e5-47b9-c6d3-252f01d40dd3"
      },
      "cell_type": "code",
      "source": [
        "# 准备训练数据\n",
        "batch_size = 128\n",
        "num_classes = 10\n",
        "img_rows, img_cols = 28, 28\n",
        "\n",
        "(x_train, y_train), (x_test, y_test) = mnist.load_data()\n",
        "x_train = x_train.reshape(x_train.shape[0], img_rows, img_cols, 1)\n",
        "x_test = x_test.reshape(x_test.shape[0], img_rows, img_cols, 1)\n",
        "\n",
        "x_train = x_train.astype('float32')\n",
        "x_test = x_test.astype('float32')\n",
        "x_train /= 255\n",
        "x_test /= 255\n",
        "y_train = utils.to_categorical(y_train, num_classes)\n",
        "y_test = utils.to_categorical(y_test, num_classes)\n",
        "\n",
        "print(x_train.shape)\n",
        "print(x_test.shape)\n",
        "print(y_train.shape)\n",
        "print(y_test.shape)"
      ],
      "execution_count": 6,
      "outputs": [
        {
          "output_type": "stream",
          "text": [
            "(60000, 28, 28, 1)\n",
            "(10000, 28, 28, 1)\n",
            "(60000, 10)\n",
            "(10000, 10)\n"
          ],
          "name": "stdout"
        }
      ]
    },
    {
      "metadata": {
        "id": "xLri8K5rl18x",
        "colab_type": "code",
        "colab": {
          "base_uri": "https://localhost:8080/",
          "height": 363
        },
        "outputId": "2aefdb23-736e-4124-ad6a-10e40ae7c70a"
      },
      "cell_type": "code",
      "source": [
        "# 自定义测试样本\n",
        "# 对测试集重新排序\n",
        "idx = range(len(x_test))\n",
        "np.random.shuffle(idx)\n",
        "X_test = np.concatenate([x_test, x_test[idx]], 1)\n",
        "print \"拼接两张图片后的测试集X_test的形状：\" + str(X_test.shape)\n",
        "Y_test = np.vstack([y_test.argmax(1), y_test[idx].argmax(1)]).T\n",
        "print \"拼接两张图片后的测试集Y_test的形状：\" + str(Y_test.shape)\n",
        "X_test = X_test[Y_test[:,0] != Y_test[:,1]] #确保两个数字不一样\n",
        "Y_test = Y_test[Y_test[:,0] != Y_test[:,1]]\n",
        "\n",
        "print \"经过简单处理后的拼接两张图片后的测试集X_test的形状：\" + str(X_test.shape)\n",
        "print \"经过简单处理后的拼接两张图片后的测试集Y_test的形状：\" + str(Y_test.shape)\n",
        "\n",
        "print \"排序前的Y_test:\"\n",
        "print Y_test\n",
        "Y_test.sort(axis=1) #排一下序，因为只比较集合，不比较顺序, todo:对这个步骤保留意见\n",
        "print \"排序后的Y_test:\"\n",
        "print Y_test"
      ],
      "execution_count": 7,
      "outputs": [
        {
          "output_type": "stream",
          "text": [
            "拼接两张图片后的测试集X_test的形状：(10000, 56, 28, 1)\n",
            "拼接两张图片后的测试集Y_test的形状：(10000, 2)\n",
            "经过简单处理后的拼接两张图片后的测试集X_test的形状：(8966, 56, 28, 1)\n",
            "经过简单处理后的拼接两张图片后的测试集Y_test的形状：(8966, 2)\n",
            "排序前的Y_test:\n",
            "[[7 6]\n",
            " [2 3]\n",
            " [1 7]\n",
            " ...\n",
            " [4 7]\n",
            " [5 8]\n",
            " [6 2]]\n",
            "排序后的Y_test:\n",
            "[[6 7]\n",
            " [2 3]\n",
            " [1 7]\n",
            " ...\n",
            " [4 7]\n",
            " [5 8]\n",
            " [2 6]]\n"
          ],
          "name": "stdout"
        }
      ]
    },
    {
      "metadata": {
        "id": "0QtjtXSlnqRB",
        "colab_type": "text"
      },
      "cell_type": "markdown",
      "source": [
        "### 普通CNN模型及其实验结果"
      ]
    },
    {
      "metadata": {
        "id": "ABLns_R2nuFH",
        "colab_type": "code",
        "colab": {
          "base_uri": "https://localhost:8080/",
          "height": 1175
        },
        "outputId": "cd06be15-be70-4092-a2a5-6ec7371a7080"
      },
      "cell_type": "code",
      "source": [
        "# 普通CNN分类模型\n",
        "input_image = Input(shape=(None,None,1))\n",
        "cnn = Conv2D(64, (3, 3), activation='relu')(input_image)\n",
        "cnn = Conv2D(64, (3, 3), activation='relu')(cnn)\n",
        "cnn = AveragePooling2D((2,2))(cnn)\n",
        "cnn = Conv2D(128, (3, 3), activation='relu')(cnn)\n",
        "cnn = Conv2D(128, (3, 3), activation='relu')(cnn)\n",
        "cnn = GlobalAveragePooling2D()(cnn)\n",
        "dense = Dense(128, activation='relu')(cnn)\n",
        "output = Dense(10, activation='sigmoid')(dense)\n",
        "\n",
        "model = Model(inputs=input_image, outputs=output)\n",
        "model.compile(loss=lambda y_true,y_pred: y_true*K.relu(0.9-y_pred)**2 + 0.25*(1-y_true)*K.relu(y_pred-0.1)**2,\n",
        "              optimizer='adam',\n",
        "              metrics=['accuracy'])\n",
        "\n",
        "model.summary()\n",
        "\n",
        "model.fit(x_train, y_train,\n",
        "          batch_size=batch_size,\n",
        "          epochs=20,\n",
        "          verbose=1,\n",
        "          validation_data=(x_test, y_test))"
      ],
      "execution_count": 8,
      "outputs": [
        {
          "output_type": "stream",
          "text": [
            "_________________________________________________________________\n",
            "Layer (type)                 Output Shape              Param #   \n",
            "=================================================================\n",
            "input_1 (InputLayer)         (None, None, None, 1)     0         \n",
            "_________________________________________________________________\n",
            "conv2d_1 (Conv2D)            (None, None, None, 64)    640       \n",
            "_________________________________________________________________\n",
            "conv2d_2 (Conv2D)            (None, None, None, 64)    36928     \n",
            "_________________________________________________________________\n",
            "average_pooling2d_1 (Average (None, None, None, 64)    0         \n",
            "_________________________________________________________________\n",
            "conv2d_3 (Conv2D)            (None, None, None, 128)   73856     \n",
            "_________________________________________________________________\n",
            "conv2d_4 (Conv2D)            (None, None, None, 128)   147584    \n",
            "_________________________________________________________________\n",
            "global_average_pooling2d_1 ( (None, 128)               0         \n",
            "_________________________________________________________________\n",
            "dense_1 (Dense)              (None, 128)               16512     \n",
            "_________________________________________________________________\n",
            "dense_2 (Dense)              (None, 10)                1290      \n",
            "=================================================================\n",
            "Total params: 276,810\n",
            "Trainable params: 276,810\n",
            "Non-trainable params: 0\n",
            "_________________________________________________________________\n",
            "Train on 60000 samples, validate on 10000 samples\n",
            "Epoch 1/20\n",
            "60000/60000 [==============================] - 28s 473us/step - loss: 0.0142 - acc: 0.7635 - val_loss: 0.0034 - val_acc: 0.9535\n",
            "Epoch 2/20\n",
            "60000/60000 [==============================] - 25s 409us/step - loss: 0.0027 - acc: 0.9610 - val_loss: 0.0020 - val_acc: 0.9712\n",
            "Epoch 3/20\n",
            "60000/60000 [==============================] - 24s 405us/step - loss: 0.0017 - acc: 0.9754 - val_loss: 0.0013 - val_acc: 0.9793\n",
            "Epoch 4/20\n",
            "60000/60000 [==============================] - 25s 411us/step - loss: 0.0013 - acc: 0.9805 - val_loss: 9.0892e-04 - val_acc: 0.9862\n",
            "Epoch 5/20\n",
            "60000/60000 [==============================] - 24s 405us/step - loss: 9.9477e-04 - acc: 0.9844 - val_loss: 8.0152e-04 - val_acc: 0.9885\n",
            "Epoch 6/20\n",
            "60000/60000 [==============================] - 24s 408us/step - loss: 8.4317e-04 - acc: 0.9873 - val_loss: 8.3849e-04 - val_acc: 0.9872\n",
            "Epoch 7/20\n",
            "60000/60000 [==============================] - 25s 409us/step - loss: 7.4797e-04 - acc: 0.9887 - val_loss: 7.0290e-04 - val_acc: 0.9890\n",
            "Epoch 8/20\n",
            "60000/60000 [==============================] - 24s 406us/step - loss: 6.6100e-04 - acc: 0.9897 - val_loss: 5.8142e-04 - val_acc: 0.9910\n",
            "Epoch 9/20\n",
            "60000/60000 [==============================] - 25s 409us/step - loss: 5.8585e-04 - acc: 0.9911 - val_loss: 4.8831e-04 - val_acc: 0.9915\n",
            "Epoch 10/20\n",
            "60000/60000 [==============================] - 25s 411us/step - loss: 5.2948e-04 - acc: 0.9916 - val_loss: 5.6079e-04 - val_acc: 0.9907\n",
            "Epoch 11/20\n",
            "60000/60000 [==============================] - 25s 409us/step - loss: 4.5748e-04 - acc: 0.9929 - val_loss: 4.7724e-04 - val_acc: 0.9917\n",
            "Epoch 12/20\n",
            "60000/60000 [==============================] - 25s 410us/step - loss: 4.6481e-04 - acc: 0.9930 - val_loss: 5.3843e-04 - val_acc: 0.9914\n",
            "Epoch 13/20\n",
            "60000/60000 [==============================] - 24s 408us/step - loss: 3.9992e-04 - acc: 0.9935 - val_loss: 6.6125e-04 - val_acc: 0.9895\n",
            "Epoch 14/20\n",
            "60000/60000 [==============================] - 25s 409us/step - loss: 3.7125e-04 - acc: 0.9939 - val_loss: 4.0683e-04 - val_acc: 0.9929\n",
            "Epoch 15/20\n",
            "60000/60000 [==============================] - 25s 411us/step - loss: 3.3227e-04 - acc: 0.9947 - val_loss: 3.9642e-04 - val_acc: 0.9934\n",
            "Epoch 16/20\n",
            "60000/60000 [==============================] - 25s 412us/step - loss: 3.0197e-04 - acc: 0.9951 - val_loss: 4.1477e-04 - val_acc: 0.9931\n",
            "Epoch 17/20\n",
            "60000/60000 [==============================] - 25s 413us/step - loss: 3.0585e-04 - acc: 0.9950 - val_loss: 4.6054e-04 - val_acc: 0.9919\n",
            "Epoch 18/20\n",
            "60000/60000 [==============================] - 24s 406us/step - loss: 2.5517e-04 - acc: 0.9960 - val_loss: 4.6032e-04 - val_acc: 0.9925\n",
            "Epoch 19/20\n",
            "60000/60000 [==============================] - 24s 408us/step - loss: 2.6148e-04 - acc: 0.9956 - val_loss: 4.1140e-04 - val_acc: 0.9935\n",
            "Epoch 20/20\n",
            "60000/60000 [==============================] - 24s 408us/step - loss: 2.1135e-04 - acc: 0.9968 - val_loss: 4.8817e-04 - val_acc: 0.9922\n"
          ],
          "name": "stdout"
        },
        {
          "output_type": "execute_result",
          "data": {
            "text/plain": [
              "<keras.callbacks.History at 0x7f78946df610>"
            ]
          },
          "metadata": {
            "tags": []
          },
          "execution_count": 8
        }
      ]
    },
    {
      "metadata": {
        "id": "nPvlHafGnyEF",
        "colab_type": "code",
        "colab": {
          "base_uri": "https://localhost:8080/",
          "height": 449
        },
        "outputId": "1e95201d-705d-49bf-a0c0-bfcfabb3f2a8"
      },
      "cell_type": "code",
      "source": [
        "Y_pred = model.predict(X_test) #模型预测\n",
        "print \"Y_pred's shape:\" + str(Y_pred.shape)\n",
        "print \"original Y_pred is: \"\n",
        "print Y_pred\n",
        "\n",
        "greater = np.sort(Y_pred, axis=1)[:, -2] > 0.5 #判断预测结果是否大于0.5\n",
        "Y_pred = Y_pred.argsort()[:,-2:]\n",
        "Y_pred.sort(axis=1)\n",
        "print \"sorted Y_pred is:\"\n",
        "print(Y_pred)\n",
        "\n",
        "acc = 1.*(np.prod(Y_pred == Y_test, axis=1)).sum()/len(X_test)\n",
        "print u'CNN+Pooling，不考虑置信度的准确率为：%s'%acc\n",
        "acc = 1.*(np.prod(Y_pred == Y_test, axis=1)*greater).sum()/len(X_test)\n",
        "print u'CNN+Pooling，考虑置信度的准确率为：%s'%acc"
      ],
      "execution_count": 9,
      "outputs": [
        {
          "output_type": "stream",
          "text": [
            "Y_pred's shape:(8966, 10)\n",
            "original Y_pred is: \n",
            "[[3.5898297e-03 6.3792076e-03 2.4300043e-01 ... 1.9211645e-01\n",
            "  5.8910460e-04 9.3354225e-02]\n",
            " [4.5615687e-07 1.0364586e-02 1.2951662e-01 ... 6.7579263e-04\n",
            "  6.2574272e-06 6.8845187e-04]\n",
            " [2.5748779e-05 1.5192473e-01 5.3542849e-02 ... 7.2596663e-01\n",
            "  6.6961540e-05 4.0533193e-03]\n",
            " ...\n",
            " [4.6497542e-05 7.2127208e-03 4.0396877e-02 ... 3.0296931e-01\n",
            "  2.2483692e-03 6.4190403e-02]\n",
            " [2.5548441e-06 2.0745485e-06 4.2922608e-07 ... 1.3297800e-06\n",
            "  3.1802163e-02 3.3478562e-03]\n",
            " [1.7010028e-04 3.2451584e-03 4.2940500e-01 ... 1.1197163e-02\n",
            "  1.3958442e-04 3.9744778e-03]]\n",
            "sorted Y_pred is:\n",
            "[[2 6]\n",
            " [3 5]\n",
            " [1 7]\n",
            " ...\n",
            " [4 7]\n",
            " [5 8]\n",
            " [2 6]]\n",
            "CNN+Pooling，不考虑置信度的准确率为：0.348315859915\n",
            "CNN+Pooling，考虑置信度的准确率为：0.080637965648\n"
          ],
          "name": "stdout"
        }
      ]
    },
    {
      "metadata": {
        "id": "z9nMD1tEn1DY",
        "colab_type": "text"
      },
      "cell_type": "markdown",
      "source": [
        "### Capsule模型及其实验结果"
      ]
    },
    {
      "metadata": {
        "id": "dTQFni_Jn11c",
        "colab_type": "code",
        "colab": {
          "base_uri": "https://localhost:8080/",
          "height": 1054
        },
        "outputId": "1356c199-8e0a-4aab-9356-93d62d5e5947"
      },
      "cell_type": "code",
      "source": [
        "#搭建CNN+Capsule分类模型\n",
        "input_image = Input(shape=(None,None,1))\n",
        "cnn = Conv2D(64, (3, 3), activation='relu')(input_image)\n",
        "cnn = Conv2D(64, (3, 3), activation='relu')(cnn)\n",
        "cnn = AveragePooling2D((2,2))(cnn)\n",
        "cnn = Conv2D(128, (3, 3), activation='relu')(cnn)\n",
        "cnn = Conv2D(128, (3, 3), activation='relu')(cnn)\n",
        "cnn = Reshape((-1, 128))(cnn)\n",
        "capsule = Capsule(10, 16, 3, True)(cnn)\n",
        "output = Lambda(lambda x: K.sqrt(K.sum(K.square(x), 2)), output_shape=(10,))(capsule)\n",
        "\n",
        "model = Model(inputs=input_image, outputs=output)\n",
        "model.compile(loss=lambda y_true,y_pred: y_true*K.relu(0.9-y_pred)**2 + 0.25*(1-y_true)*K.relu(y_pred-0.1)**2,\n",
        "              optimizer='adam',\n",
        "              metrics=['accuracy'])\n",
        "\n",
        "model.summary()\n",
        "\n",
        "model.fit(x_train, y_train,\n",
        "          batch_size=batch_size,\n",
        "          epochs=10,\n",
        "          verbose=1,\n",
        "          validation_data=(x_test, y_test))\n"
      ],
      "execution_count": 10,
      "outputs": [
        {
          "output_type": "stream",
          "text": [
            "('origin u_vecs shape:', TensorShape([Dimension(None), Dimension(None), Dimension(128)]))\n",
            "('conved u_vecs shape:', TensorShape([Dimension(None), Dimension(None), Dimension(160)]))\n",
            "('reshaped u_vecs shape:', TensorShape([Dimension(None), Dimension(None), Dimension(10), Dimension(16)]))\n",
            "('permuted u_vecs shape:', TensorShape([Dimension(None), Dimension(10), Dimension(None), Dimension(16)]))\n",
            "('c shape', TensorShape([Dimension(None), Dimension(10), Dimension(None)]))\n",
            "('s shape', TensorShape([Dimension(None), Dimension(10), Dimension(16)]))\n",
            "('b shape', TensorShape([Dimension(None), Dimension(10), Dimension(None)]))\n",
            "('c shape', TensorShape([Dimension(None), Dimension(10), Dimension(None)]))\n",
            "('s shape', TensorShape([Dimension(None), Dimension(10), Dimension(16)]))\n",
            "('b shape', TensorShape([Dimension(None), Dimension(10), Dimension(None)]))\n",
            "('c shape', TensorShape([Dimension(None), Dimension(10), Dimension(None)]))\n",
            "('s shape', TensorShape([Dimension(None), Dimension(10), Dimension(16)]))\n",
            "('b shape', TensorShape([Dimension(None), Dimension(10), Dimension(None)]))\n",
            "_________________________________________________________________\n",
            "Layer (type)                 Output Shape              Param #   \n",
            "=================================================================\n",
            "input_2 (InputLayer)         (None, None, None, 1)     0         \n",
            "_________________________________________________________________\n",
            "conv2d_5 (Conv2D)            (None, None, None, 64)    640       \n",
            "_________________________________________________________________\n",
            "conv2d_6 (Conv2D)            (None, None, None, 64)    36928     \n",
            "_________________________________________________________________\n",
            "average_pooling2d_2 (Average (None, None, None, 64)    0         \n",
            "_________________________________________________________________\n",
            "conv2d_7 (Conv2D)            (None, None, None, 128)   73856     \n",
            "_________________________________________________________________\n",
            "conv2d_8 (Conv2D)            (None, None, None, 128)   147584    \n",
            "_________________________________________________________________\n",
            "reshape_1 (Reshape)          (None, None, 128)         0         \n",
            "_________________________________________________________________\n",
            "capsule_1 (Capsule)          (None, 10, 16)            20480     \n",
            "_________________________________________________________________\n",
            "lambda_1 (Lambda)            (None, 10)                0         \n",
            "=================================================================\n",
            "Total params: 279,488\n",
            "Trainable params: 279,488\n",
            "Non-trainable params: 0\n",
            "_________________________________________________________________\n",
            "Train on 60000 samples, validate on 10000 samples\n",
            "Epoch 1/10\n",
            "60000/60000 [==============================] - 31s 513us/step - loss: 0.0102 - acc: 0.8716 - val_loss: 0.0024 - val_acc: 0.9806\n",
            "Epoch 2/10\n",
            "60000/60000 [==============================] - 29s 484us/step - loss: 0.0019 - acc: 0.9840 - val_loss: 0.0012 - val_acc: 0.9902\n",
            "Epoch 3/10\n",
            "60000/60000 [==============================] - 29s 484us/step - loss: 0.0013 - acc: 0.9893 - val_loss: 0.0010 - val_acc: 0.9912\n",
            "Epoch 4/10\n",
            "60000/60000 [==============================] - 29s 480us/step - loss: 9.7575e-04 - acc: 0.9914 - val_loss: 8.7391e-04 - val_acc: 0.9922\n",
            "Epoch 5/10\n",
            "60000/60000 [==============================] - 29s 482us/step - loss: 7.8651e-04 - acc: 0.9933 - val_loss: 8.0799e-04 - val_acc: 0.9932\n",
            "Epoch 6/10\n",
            "60000/60000 [==============================] - 29s 484us/step - loss: 6.7253e-04 - acc: 0.9943 - val_loss: 7.1474e-04 - val_acc: 0.9930\n",
            "Epoch 7/10\n",
            "60000/60000 [==============================] - 29s 482us/step - loss: 5.8809e-04 - acc: 0.9953 - val_loss: 6.9953e-04 - val_acc: 0.9925\n",
            "Epoch 8/10\n",
            "60000/60000 [==============================] - 29s 484us/step - loss: 5.0959e-04 - acc: 0.9958 - val_loss: 7.6933e-04 - val_acc: 0.9929\n",
            "Epoch 9/10\n",
            "60000/60000 [==============================] - 29s 483us/step - loss: 4.6654e-04 - acc: 0.9962 - val_loss: 8.4993e-04 - val_acc: 0.9915\n",
            "Epoch 10/10\n",
            "60000/60000 [==============================] - 29s 485us/step - loss: 3.9701e-04 - acc: 0.9970 - val_loss: 6.2559e-04 - val_acc: 0.9937\n"
          ],
          "name": "stdout"
        },
        {
          "output_type": "execute_result",
          "data": {
            "text/plain": [
              "<keras.callbacks.History at 0x7f78900d3650>"
            ]
          },
          "metadata": {
            "tags": []
          },
          "execution_count": 10
        }
      ]
    },
    {
      "metadata": {
        "id": "hSR9zBeZo6dc",
        "colab_type": "code",
        "colab": {
          "base_uri": "https://localhost:8080/",
          "height": 52
        },
        "outputId": "deffe191-da5c-44de-dbd5-86032164d10f"
      },
      "cell_type": "code",
      "source": [
        "Y_pred = model.predict(X_test) #用模型进行预测\n",
        "greater = np.sort(Y_pred, axis=1)[:,-2] > 0.5 #判断预测结果是否大于0.5\n",
        "Y_pred = Y_pred.argsort()[:,-2:] #取最高分数的两个类别\n",
        "Y_pred.sort(axis=1) #排序，因为只比较集合\n",
        "\n",
        "acc = 1.*(np.prod(Y_pred == Y_test, axis=1)).sum()/len(X_test)\n",
        "print u'CNN+Capsule，不考虑置信度的准确率为：%s'%acc\n",
        "acc = 1.*(np.prod(Y_pred == Y_test, axis=1)*greater).sum()/len(X_test)\n",
        "print u'CNN+Capsule，考虑置信度的准确率为：%s'%acc"
      ],
      "execution_count": 11,
      "outputs": [
        {
          "output_type": "stream",
          "text": [
            "CNN+Capsule，不考虑置信度的准确率为：0.961744367611\n",
            "CNN+Capsule，考虑置信度的准确率为：0.961744367611\n"
          ],
          "name": "stdout"
        }
      ]
    }
  ]
}